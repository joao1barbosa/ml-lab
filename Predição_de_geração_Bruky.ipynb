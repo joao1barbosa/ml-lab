{
  "nbformat": 4,
  "nbformat_minor": 0,
  "metadata": {
    "colab": {
      "provenance": [],
      "include_colab_link": true
    },
    "kernelspec": {
      "name": "python3",
      "display_name": "Python 3"
    },
    "language_info": {
      "name": "python"
    }
  },
  "cells": [
    {
      "cell_type": "markdown",
      "metadata": {
        "id": "view-in-github",
        "colab_type": "text"
      },
      "source": [
        "<a href=\"https://colab.research.google.com/github/joao1barbosa/ml-lab/blob/main/Predi%C3%A7%C3%A3o_de_gera%C3%A7%C3%A3o_Bruky.ipynb\" target=\"_parent\"><img src=\"https://colab.research.google.com/assets/colab-badge.svg\" alt=\"Open In Colab\"/></a>"
      ]
    },
    {
      "cell_type": "markdown",
      "source": [
        "Instalação de bibliotecas\n"
      ],
      "metadata": {
        "id": "dFnJjDy1occq"
      }
    },
    {
      "cell_type": "code",
      "source": [
        "!pip install pandas numpy matplotlib"
      ],
      "metadata": {
        "collapsed": true,
        "colab": {
          "base_uri": "https://localhost:8080/"
        },
        "id": "Y6wOeFcY1sYG",
        "outputId": "2f382d79-40de-485b-8707-f81825386a52"
      },
      "execution_count": 1,
      "outputs": [
        {
          "output_type": "stream",
          "name": "stdout",
          "text": [
            "Requirement already satisfied: pandas in /usr/local/lib/python3.10/dist-packages (2.2.2)\n",
            "Requirement already satisfied: numpy in /usr/local/lib/python3.10/dist-packages (1.26.4)\n",
            "Requirement already satisfied: matplotlib in /usr/local/lib/python3.10/dist-packages (3.8.0)\n",
            "Requirement already satisfied: python-dateutil>=2.8.2 in /usr/local/lib/python3.10/dist-packages (from pandas) (2.8.2)\n",
            "Requirement already satisfied: pytz>=2020.1 in /usr/local/lib/python3.10/dist-packages (from pandas) (2024.2)\n",
            "Requirement already satisfied: tzdata>=2022.7 in /usr/local/lib/python3.10/dist-packages (from pandas) (2024.2)\n",
            "Requirement already satisfied: contourpy>=1.0.1 in /usr/local/lib/python3.10/dist-packages (from matplotlib) (1.3.1)\n",
            "Requirement already satisfied: cycler>=0.10 in /usr/local/lib/python3.10/dist-packages (from matplotlib) (0.12.1)\n",
            "Requirement already satisfied: fonttools>=4.22.0 in /usr/local/lib/python3.10/dist-packages (from matplotlib) (4.55.3)\n",
            "Requirement already satisfied: kiwisolver>=1.0.1 in /usr/local/lib/python3.10/dist-packages (from matplotlib) (1.4.7)\n",
            "Requirement already satisfied: packaging>=20.0 in /usr/local/lib/python3.10/dist-packages (from matplotlib) (24.2)\n",
            "Requirement already satisfied: pillow>=6.2.0 in /usr/local/lib/python3.10/dist-packages (from matplotlib) (11.0.0)\n",
            "Requirement already satisfied: pyparsing>=2.3.1 in /usr/local/lib/python3.10/dist-packages (from matplotlib) (3.2.0)\n",
            "Requirement already satisfied: six>=1.5 in /usr/local/lib/python3.10/dist-packages (from python-dateutil>=2.8.2->pandas) (1.17.0)\n"
          ]
        }
      ]
    },
    {
      "cell_type": "markdown",
      "source": [
        "Importação das bibliotecas\n"
      ],
      "metadata": {
        "id": "ShBJ3hIzpTXf"
      }
    },
    {
      "cell_type": "code",
      "source": [
        "import numpy as np\n",
        "import pandas as pd\n",
        "from matplotlib import pyplot as plt"
      ],
      "metadata": {
        "id": "P68G_z5BpVx4"
      },
      "execution_count": 2,
      "outputs": []
    },
    {
      "cell_type": "markdown",
      "source": [
        "Importação dos dados de geração de energia de Outubro de 2023 a Outubro de 2024"
      ],
      "metadata": {
        "id": "wqnkEMbLrlHr"
      }
    },
    {
      "cell_type": "code",
      "source": [
        "df_geracao = pd.read_csv('geracao_energia.csv')\n",
        "print(df_geracao)"
      ],
      "metadata": {
        "collapsed": true,
        "colab": {
          "base_uri": "https://localhost:8080/"
        },
        "id": "QPoRYMivrzWc",
        "outputId": "fb34b6cf-9475-40b4-88b2-769dbe97316a"
      },
      "execution_count": 16,
      "outputs": [
        {
          "output_type": "stream",
          "name": "stdout",
          "text": [
            "       Data  Energia gerada(kWh)\n",
            "0   2023/10             73527.14\n",
            "1   2023/11             76311.63\n",
            "2   2023/12             79446.45\n",
            "3   2024/01             80503.63\n",
            "4   2024/02             66664.83\n",
            "5   2024/03             59461.22\n",
            "6   2024/04             62226.98\n",
            "7   2024/05             55832.88\n",
            "8   2024/06             47758.45\n",
            "9   2024/07             48878.33\n",
            "10  2024/08             56884.30\n",
            "11  2024/09             70679.71\n",
            "12  2024/10             67896.32\n"
          ]
        }
      ]
    },
    {
      "cell_type": "markdown",
      "source": [
        "Importação dos dados de clima de Jataí por hora, de Outubro de 2023 a Outubro 2024, e filtra eles para apresentá-los melhor."
      ],
      "metadata": {
        "id": "s8v-qQeyDRnh"
      }
    },
    {
      "cell_type": "code",
      "source": [
        "df_clima = pd.read_csv('clima_jatai_08-2023_a_08-2024.csv', sep=';', encoding='latin-1')\n",
        "df_clima = df_clima.iloc[:, :-1]\n",
        "df_clima.columns = [\n",
        "    \"Data\", \"Hora UTC\", \"Precipitação (mm)\", \"Pressão (mB)\",\n",
        "    \"Pressão Máx (mB)\", \"Pressão Mín (mB)\", \"Radiação (Kj/m²)\",\n",
        "    \"Temp. Bulbo Seco (°C)\", \"Temp. Orvalho (°C)\", \"Temp. Máx (°C)\",\n",
        "    \"Temp. Mín (°C)\", \"Orvalho Máx (°C)\", \"Orvalho Mín (°C)\",\n",
        "    \"Umidade Rel. Máx (%)\", \"Umidade Rel. Mín (%)\",\n",
        "    \"Umidade Rel. Horária (%)\", \"Vento Direção (°)\",\n",
        "    \"Rajada Máx (m/s)\", \"Velocidade Vento (m/s)\"\n",
        "]"
      ],
      "metadata": {
        "collapsed": true,
        "id": "1vB1n7Lg5j9P"
      },
      "execution_count": 5,
      "outputs": []
    },
    {
      "cell_type": "code",
      "source": [
        "print(df_clima.head())"
      ],
      "metadata": {
        "collapsed": true,
        "colab": {
          "base_uri": "https://localhost:8080/"
        },
        "id": "y_c9xteyEoHw",
        "outputId": "9123d414-8ef3-434e-e194-c7cc1a582297"
      },
      "execution_count": 10,
      "outputs": [
        {
          "output_type": "stream",
          "name": "stdout",
          "text": [
            "  Precipitação (mm) Pressão (mB) Pressão Máx (mB) Pressão Mín (mB)  \\\n",
            "0                 0        937,5            937,5            936,8   \n",
            "1                 0        938,4            938,4            937,5   \n",
            "2                 0        938,9            938,9            938,4   \n",
            "3                 0        938,8              939            938,8   \n",
            "4                 0        938,3            938,8            938,3   \n",
            "\n",
            "  Radiação (Kj/m²) Temp. Bulbo Seco (°C) Temp. Orvalho (°C) Temp. Máx (°C)  \\\n",
            "0              NaN                  24,8               19,9           25,6   \n",
            "1              NaN                  23,7               20,2           24,8   \n",
            "2              NaN                  23,4               20,3           23,9   \n",
            "3              NaN                  23,8               19,9           24,7   \n",
            "4              NaN                  23,3               20,2           24,2   \n",
            "\n",
            "  Temp. Mín (°C) Orvalho Máx (°C) Orvalho Mín (°C)  Umidade Rel. Máx (%)  \\\n",
            "0           24,5               20             19,4                  76.0   \n",
            "1           23,7             20,3             19,9                  81.0   \n",
            "2             23             20,5             20,1                  85.0   \n",
            "3           23,4             20,3             19,6                  82.0   \n",
            "4           22,6             20,4             19,8                  87.0   \n",
            "\n",
            "   Umidade Rel. Mín (%)  Umidade Rel. Horária (%)  Vento Direção (°)  \\\n",
            "0                  69.0                      75.0               34.0   \n",
            "1                  74.0                      81.0              200.0   \n",
            "2                  80.0                      82.0              121.0   \n",
            "3                  73.0                      79.0              238.0   \n",
            "4                  77.0                      83.0              330.0   \n",
            "\n",
            "  Rajada Máx (m/s) Velocidade Vento (m/s)           Data Hora     Data  \n",
            "0              2,9                     ,3 2023-10-01 00:00:00  2023/10  \n",
            "1                3                     ,1 2023-10-01 01:00:00  2023/10  \n",
            "2              2,5                    1,5 2023-10-01 02:00:00  2023/10  \n",
            "3              5,1                     ,1 2023-10-01 03:00:00  2023/10  \n",
            "4                3                    1,4 2023-10-01 04:00:00  2023/10  \n"
          ]
        }
      ]
    },
    {
      "cell_type": "markdown",
      "source": [
        "Cria coluna única de Data e Hora para a tabela de dados climáticos e remove as anteriores."
      ],
      "metadata": {
        "id": "DktaVzSED_Oc"
      }
    },
    {
      "cell_type": "code",
      "source": [
        "df_clima['Data Hora'] = pd.to_datetime(df_clima['Data'] + ' ' + df_clima['Hora UTC'].str.strip(' UTC'), format='%Y/%m/%d %H%M')\n",
        "df_clima.drop(columns=['Data', 'Hora UTC'], inplace=True)\n"
      ],
      "metadata": {
        "collapsed": true,
        "id": "nme90S7XEFhF"
      },
      "execution_count": 7,
      "outputs": []
    },
    {
      "cell_type": "markdown",
      "source": [
        "Cria uma nova coluna de Data usando apenas o mês e o ano de cada linha da tabela"
      ],
      "metadata": {
        "id": "Sba1fFv1LNen"
      }
    },
    {
      "cell_type": "code",
      "source": [
        "df_clima['Data'] = df_clima['Data Hora'].dt.strftime('%Y/%m')"
      ],
      "metadata": {
        "id": "LLwUIWfZFj1S"
      },
      "execution_count": 8,
      "outputs": []
    },
    {
      "cell_type": "markdown",
      "source": [
        "Defini uma função que irá tratar os dados de clima, padronizando todos os valores numéricos para melhor interpretação."
      ],
      "metadata": {
        "id": "vsiU775WLUgi"
      }
    },
    {
      "cell_type": "code",
      "source": [
        "def format_value(value):\n",
        "  try:\n",
        "    return pd.to_numeric(value.str.replace(',', '.'), errors='coerce')\n",
        "  except AttributeError:\n",
        "    return value"
      ],
      "metadata": {
        "id": "6lmrlI6VOXQ8"
      },
      "execution_count": 11,
      "outputs": []
    },
    {
      "cell_type": "code",
      "source": [
        "for column in [\n",
        "    \"Precipitação (mm)\", \"Pressão (mB)\",\n",
        "    \"Pressão Máx (mB)\", \"Pressão Mín (mB)\", \"Radiação (Kj/m²)\",\n",
        "    \"Temp. Bulbo Seco (°C)\", \"Temp. Orvalho (°C)\", \"Temp. Máx (°C)\",\n",
        "    \"Temp. Mín (°C)\", \"Orvalho Máx (°C)\", \"Orvalho Mín (°C)\",\n",
        "    \"Umidade Rel. Máx (%)\", \"Umidade Rel. Mín (%)\",\n",
        "    \"Umidade Rel. Horária (%)\", \"Vento Direção (°)\",\n",
        "    \"Rajada Máx (m/s)\", \"Velocidade Vento (m/s)\"\n",
        "]:\n",
        "    df_clima[column] = format_value(df_clima[column])"
      ],
      "metadata": {
        "id": "jvvwfq62eMhc"
      },
      "execution_count": 12,
      "outputs": []
    },
    {
      "cell_type": "markdown",
      "source": [
        "Agrupa os dados de clima (que são apresentados por hora) para ficar no mesmo padrão dos dados de geração de energia (que são apresentados por mês)."
      ],
      "metadata": {
        "id": "cWwmaoQ_ge7y"
      }
    },
    {
      "cell_type": "code",
      "source": [
        "clima_agrupado = df_clima.groupby('Data').agg({\n",
        "    \"Precipitação (mm)\": 'sum',           # Soma da precipitação mensal\n",
        "    \"Pressão (mB)\": 'mean',              # Média da pressão\n",
        "    \"Pressão Máx (mB)\": 'max',           # Máxima da pressão\n",
        "    \"Pressão Mín (mB)\": 'min',           # Mínima da pressão\n",
        "    \"Radiação (Kj/m²)\": 'sum',           # Soma da radiação\n",
        "    \"Temp. Bulbo Seco (°C)\": 'mean',     # Temperatura média\n",
        "    \"Temp. Orvalho (°C)\": 'mean',        # Orvalho médio\n",
        "    \"Temp. Máx (°C)\": 'max',             # Máxima temperatura\n",
        "    \"Temp. Mín (°C)\": 'min',             # Mínima temperatura\n",
        "    \"Orvalho Máx (°C)\": 'max',           # Máxima do orvalho\n",
        "    \"Orvalho Mín (°C)\": 'min',           # Mínima do orvalho\n",
        "    \"Umidade Rel. Máx (%)\": 'max',       # Máxima da umidade relativa\n",
        "    \"Umidade Rel. Mín (%)\": 'min',       # Mínima da umidade relativa\n",
        "    \"Umidade Rel. Horária (%)\": 'mean',  # Média da umidade relativa\n",
        "    \"Vento Direção (°)\": 'mean',         # Direção média do vento\n",
        "    \"Rajada Máx (m/s)\": 'max',           # Máxima rajada de vento\n",
        "    \"Velocidade Vento (m/s)\": 'mean'     # Velocidade média do vento\n",
        "}, numeric_only=True).reset_index()\n"
      ],
      "metadata": {
        "collapsed": true,
        "id": "w3qE8ql9MdCC"
      },
      "execution_count": 13,
      "outputs": []
    },
    {
      "cell_type": "code",
      "source": [
        "print(clima_agrupado)"
      ],
      "metadata": {
        "colab": {
          "base_uri": "https://localhost:8080/"
        },
        "id": "Gav6jOEKQOWw",
        "outputId": "00e45535-a160-4a1a-916b-26e79e490f54"
      },
      "execution_count": 14,
      "outputs": [
        {
          "output_type": "stream",
          "name": "stdout",
          "text": [
            "       Data  Precipitação (mm)  Pressão (mB)  Pressão Máx (mB)  \\\n",
            "0   2023/10              132.4    936.541129             941.7   \n",
            "1   2023/11              120.8    936.545694             942.0   \n",
            "2   2023/12              182.4    936.742625             941.4   \n",
            "3   2024/01              228.0    937.014073             942.3   \n",
            "4   2024/02              286.8    938.347414             943.7   \n",
            "5   2024/03              287.0    938.023925             942.0   \n",
            "6   2024/04              323.4    938.396389             941.8   \n",
            "7   2024/05                1.2    940.378091             946.8   \n",
            "8   2024/06                0.0    941.202500             947.4   \n",
            "9   2024/07                0.0    942.712903             948.3   \n",
            "10  2024/08                0.0    941.693817             948.3   \n",
            "11  2024/09                3.0    938.363472             943.9   \n",
            "12  2024/10              233.4    937.177688             944.0   \n",
            "\n",
            "    Pressão Mín (mB)  Radiação (Kj/m²)  Temp. Bulbo Seco (°C)  \\\n",
            "0              930.2          670715.4              26.293011   \n",
            "1              931.7          684955.2              25.689722   \n",
            "2              930.5          715879.1              25.572801   \n",
            "3              931.7          701370.2              24.873748   \n",
            "4              929.6          614492.4              24.469971   \n",
            "5              931.5          544840.9              24.672715   \n",
            "6              933.3          568645.4              24.116944   \n",
            "7              934.9          535271.3              21.649462   \n",
            "8              936.4          484217.3              20.674444   \n",
            "9              936.7          508506.0              20.310081   \n",
            "10             935.5          631222.7              21.594220   \n",
            "11             933.1          635221.2              26.451389   \n",
            "12             931.3          592195.1              25.544758   \n",
            "\n",
            "    Temp. Orvalho (°C)  Temp. Máx (°C)  Temp. Mín (°C)  Orvalho Máx (°C)  \\\n",
            "0            19.453898            37.8            18.7              24.7   \n",
            "1            18.818194            36.7            15.5              23.5   \n",
            "2            20.051150            35.8            18.7              24.1   \n",
            "3            20.106360            34.3            17.2              24.8   \n",
            "4            20.140517            35.6            18.2              23.5   \n",
            "5            21.454704            35.9            19.8              25.5   \n",
            "6            20.509861            33.1            14.5              24.7   \n",
            "7            16.406720            33.2             9.4              22.0   \n",
            "8            12.590556            32.5            10.1              17.8   \n",
            "9            10.872446            33.4             9.1              17.7   \n",
            "10            7.243414            36.1             1.8              16.4   \n",
            "11            9.705972            39.5            10.7              20.3   \n",
            "12           17.951075            39.5            14.8              24.6   \n",
            "\n",
            "    Orvalho Mín (°C)  Umidade Rel. Máx (%)  Umidade Rel. Mín (%)  \\\n",
            "0               12.4                  97.0                  23.0   \n",
            "1                7.9                  98.0                  18.0   \n",
            "2                9.3                  98.0                  20.0   \n",
            "3               10.0                  98.0                  27.0   \n",
            "4               11.8                  99.0                  27.0   \n",
            "5               15.5                  99.0                  30.0   \n",
            "6                7.2                 100.0                  22.0   \n",
            "7                9.1                 100.0                  27.0   \n",
            "8                6.4                  99.0                  21.0   \n",
            "9                3.2                 100.0                  17.0   \n",
            "10              -5.6                  98.0                   8.0   \n",
            "11              -2.9                  92.0                   8.0   \n",
            "12              -6.7                  99.0                   8.0   \n",
            "\n",
            "    Umidade Rel. Horária (%)  Vento Direção (°)  Rajada Máx (m/s)  \\\n",
            "0                  69.358871         206.935484              21.5   \n",
            "1                  69.490278         207.063889              20.0   \n",
            "2                  74.184032         210.717185              23.1   \n",
            "3                  77.228687         224.242219              16.2   \n",
            "4                  79.410920         196.308908              19.6   \n",
            "5                  84.051075         203.577957              16.8   \n",
            "6                  82.819444         175.211111              12.5   \n",
            "7                  76.321237         175.650538              10.6   \n",
            "8                  65.606944         194.284722              11.7   \n",
            "9                  61.311828         174.205645              11.5   \n",
            "10                 45.850806         167.948925              12.5   \n",
            "11                 41.233333         175.420833              15.6   \n",
            "12                 68.873486         195.100806              20.4   \n",
            "\n",
            "    Velocidade Vento (m/s)  \n",
            "0                 1.762097  \n",
            "1                 1.700417  \n",
            "2                 1.520027  \n",
            "3                 1.605413  \n",
            "4                 1.490230  \n",
            "5                 1.224731  \n",
            "6                 1.033889  \n",
            "7                 1.091667  \n",
            "8                 1.012639  \n",
            "9                 1.142070  \n",
            "10                1.585484  \n",
            "11                1.599444  \n",
            "12                1.653763  \n"
          ]
        }
      ]
    },
    {
      "cell_type": "markdown",
      "source": [
        "Junta os dois dataframes em um só"
      ],
      "metadata": {
        "id": "R29bIR-9g8IJ"
      }
    },
    {
      "cell_type": "code",
      "source": [
        "df_combinado = pd.merge(df_geracao, clima_agrupado, on=['Data'])"
      ],
      "metadata": {
        "id": "YUvcbLIdhORH"
      },
      "execution_count": 17,
      "outputs": []
    },
    {
      "cell_type": "code",
      "source": [
        "print(df_combinado)"
      ],
      "metadata": {
        "colab": {
          "base_uri": "https://localhost:8080/"
        },
        "collapsed": true,
        "id": "4SMOudSDhXui",
        "outputId": "9349a3d0-870f-4154-abd5-9a1adefb0960"
      },
      "execution_count": 18,
      "outputs": [
        {
          "output_type": "stream",
          "name": "stdout",
          "text": [
            "       Data  Energia gerada(kWh)  Precipitação (mm)  Pressão (mB)  \\\n",
            "0   2023/10             73527.14              132.4    936.541129   \n",
            "1   2023/11             76311.63              120.8    936.545694   \n",
            "2   2023/12             79446.45              182.4    936.742625   \n",
            "3   2024/01             80503.63              228.0    937.014073   \n",
            "4   2024/02             66664.83              286.8    938.347414   \n",
            "5   2024/03             59461.22              287.0    938.023925   \n",
            "6   2024/04             62226.98              323.4    938.396389   \n",
            "7   2024/05             55832.88                1.2    940.378091   \n",
            "8   2024/06             47758.45                0.0    941.202500   \n",
            "9   2024/07             48878.33                0.0    942.712903   \n",
            "10  2024/08             56884.30                0.0    941.693817   \n",
            "11  2024/09             70679.71                3.0    938.363472   \n",
            "12  2024/10             67896.32              233.4    937.177688   \n",
            "\n",
            "    Pressão Máx (mB)  Pressão Mín (mB)  Radiação (Kj/m²)  \\\n",
            "0              941.7             930.2          670715.4   \n",
            "1              942.0             931.7          684955.2   \n",
            "2              941.4             930.5          715879.1   \n",
            "3              942.3             931.7          701370.2   \n",
            "4              943.7             929.6          614492.4   \n",
            "5              942.0             931.5          544840.9   \n",
            "6              941.8             933.3          568645.4   \n",
            "7              946.8             934.9          535271.3   \n",
            "8              947.4             936.4          484217.3   \n",
            "9              948.3             936.7          508506.0   \n",
            "10             948.3             935.5          631222.7   \n",
            "11             943.9             933.1          635221.2   \n",
            "12             944.0             931.3          592195.1   \n",
            "\n",
            "    Temp. Bulbo Seco (°C)  Temp. Orvalho (°C)  Temp. Máx (°C)  Temp. Mín (°C)  \\\n",
            "0               26.293011           19.453898            37.8            18.7   \n",
            "1               25.689722           18.818194            36.7            15.5   \n",
            "2               25.572801           20.051150            35.8            18.7   \n",
            "3               24.873748           20.106360            34.3            17.2   \n",
            "4               24.469971           20.140517            35.6            18.2   \n",
            "5               24.672715           21.454704            35.9            19.8   \n",
            "6               24.116944           20.509861            33.1            14.5   \n",
            "7               21.649462           16.406720            33.2             9.4   \n",
            "8               20.674444           12.590556            32.5            10.1   \n",
            "9               20.310081           10.872446            33.4             9.1   \n",
            "10              21.594220            7.243414            36.1             1.8   \n",
            "11              26.451389            9.705972            39.5            10.7   \n",
            "12              25.544758           17.951075            39.5            14.8   \n",
            "\n",
            "    Orvalho Máx (°C)  Orvalho Mín (°C)  Umidade Rel. Máx (%)  \\\n",
            "0               24.7              12.4                  97.0   \n",
            "1               23.5               7.9                  98.0   \n",
            "2               24.1               9.3                  98.0   \n",
            "3               24.8              10.0                  98.0   \n",
            "4               23.5              11.8                  99.0   \n",
            "5               25.5              15.5                  99.0   \n",
            "6               24.7               7.2                 100.0   \n",
            "7               22.0               9.1                 100.0   \n",
            "8               17.8               6.4                  99.0   \n",
            "9               17.7               3.2                 100.0   \n",
            "10              16.4              -5.6                  98.0   \n",
            "11              20.3              -2.9                  92.0   \n",
            "12              24.6              -6.7                  99.0   \n",
            "\n",
            "    Umidade Rel. Mín (%)  Umidade Rel. Horária (%)  Vento Direção (°)  \\\n",
            "0                   23.0                 69.358871         206.935484   \n",
            "1                   18.0                 69.490278         207.063889   \n",
            "2                   20.0                 74.184032         210.717185   \n",
            "3                   27.0                 77.228687         224.242219   \n",
            "4                   27.0                 79.410920         196.308908   \n",
            "5                   30.0                 84.051075         203.577957   \n",
            "6                   22.0                 82.819444         175.211111   \n",
            "7                   27.0                 76.321237         175.650538   \n",
            "8                   21.0                 65.606944         194.284722   \n",
            "9                   17.0                 61.311828         174.205645   \n",
            "10                   8.0                 45.850806         167.948925   \n",
            "11                   8.0                 41.233333         175.420833   \n",
            "12                   8.0                 68.873486         195.100806   \n",
            "\n",
            "    Rajada Máx (m/s)  Velocidade Vento (m/s)  \n",
            "0               21.5                1.762097  \n",
            "1               20.0                1.700417  \n",
            "2               23.1                1.520027  \n",
            "3               16.2                1.605413  \n",
            "4               19.6                1.490230  \n",
            "5               16.8                1.224731  \n",
            "6               12.5                1.033889  \n",
            "7               10.6                1.091667  \n",
            "8               11.7                1.012639  \n",
            "9               11.5                1.142070  \n",
            "10              12.5                1.585484  \n",
            "11              15.6                1.599444  \n",
            "12              20.4                1.653763  \n"
          ]
        }
      ]
    },
    {
      "cell_type": "markdown",
      "source": [
        "Separação de variáveis dependentes (y) e independentes (x)"
      ],
      "metadata": {
        "id": "XPyDyhO6i1hS"
      }
    },
    {
      "cell_type": "code",
      "source": [
        "x = df_combinado.drop(columns=['Data', 'Energia gerada(kWh)'])\n",
        "y = df_combinado['Energia gerada(kWh)']"
      ],
      "metadata": {
        "id": "e4eJi3YfilHY"
      },
      "execution_count": 35,
      "outputs": []
    },
    {
      "cell_type": "code",
      "source": [
        "from sklearn.preprocessing import StandardScaler\n",
        "\n",
        "scaler = StandardScaler()\n",
        "X_scaled = scaler.fit_transform(x)\n"
      ],
      "metadata": {
        "id": "mjEjyYPhjTE1"
      },
      "execution_count": 37,
      "outputs": []
    },
    {
      "cell_type": "code",
      "source": [
        "from sklearn.model_selection import train_test_split\n",
        "\n",
        "X_train, X_test, y_train, y_test = train_test_split(X_scaled, y, test_size=0.2, random_state=42)\n"
      ],
      "metadata": {
        "id": "pN8Gl7phjCjO"
      },
      "execution_count": 39,
      "outputs": []
    },
    {
      "cell_type": "code",
      "source": [
        "from sklearn.linear_model import LinearRegression\n",
        "\n",
        "# Criar o modelo\n",
        "model = LinearRegression()\n",
        "\n",
        "# Treinar o modelo\n",
        "model.fit(X_train, y_train)\n",
        "\n",
        "# Coeficientes do modelo\n",
        "print(\"Coeficientes:\", model.coef_)\n",
        "print(\"Intercepto:\", model.intercept_)\n"
      ],
      "metadata": {
        "colab": {
          "base_uri": "https://localhost:8080/"
        },
        "id": "NHN4eybcj7ni",
        "outputId": "a1f54265-bdd3-4395-a74a-d20b4e060506"
      },
      "execution_count": 38,
      "outputs": [
        {
          "output_type": "stream",
          "name": "stdout",
          "text": [
            "Coeficientes: [-1268.56586686 -2116.24232785   100.21209911  -955.14294011\n",
            "  5868.65401898   496.97749316  1497.4246155  -3001.97388692\n",
            "  -441.60344403  1967.44346636 -2234.45927673   497.95061648\n",
            "  -188.18279544  1251.00853696  1403.58911588   346.54053921\n",
            "  1761.42373226]\n",
            "Intercepto: 63985.193524614406\n"
          ]
        }
      ]
    },
    {
      "cell_type": "code",
      "source": [
        "from sklearn.metrics import mean_squared_error, mean_absolute_error\n",
        "\n",
        "\n",
        "# Previsões no conjunto de teste\n",
        "y_pred = model.predict(X_test)\n",
        "\n",
        "# Avaliação\n",
        "mse = mean_squared_error(y_test, y_pred)\n",
        "rmse = np.sqrt(mse)\n",
        "mae = mean_absolute_error(y_test, y_pred)\n",
        "\n",
        "print(f\"MSE: {mse}\")\n",
        "print(f\"RMSE: {rmse:.2f}\")\n",
        "print(f\"MAE: {mae}\")\n"
      ],
      "metadata": {
        "colab": {
          "base_uri": "https://localhost:8080/"
        },
        "id": "CnX3PDHdkBPs",
        "outputId": "978a6d05-0fe9-46e8-a7c4-b66d683b1072"
      },
      "execution_count": 40,
      "outputs": [
        {
          "output_type": "stream",
          "name": "stdout",
          "text": [
            "MSE: 49457433.330884546\n",
            "RMSE: 7032.60\n",
            "MAE: 4847.523380789736\n"
          ]
        }
      ]
    },
    {
      "cell_type": "code",
      "source": [
        "import matplotlib.pyplot as plt\n",
        "\n",
        "plt.figure(figsize=(10, 6))\n",
        "plt.scatter(y_test, y_pred, alpha=0.7)\n",
        "plt.plot([y_test.min(), y_test.max()], [y_test.min(), y_test.max()], color='red', linestyle='--', label=\"Ideal\")\n",
        "plt.xlabel(\"Valores Reais (Geração kW)\")\n",
        "plt.ylabel(\"Valores Previstos (Geração kW)\")\n",
        "plt.title(\"Regressão Linear: Previsões vs Reais\")\n",
        "plt.legend()\n",
        "plt.show()\n"
      ],
      "metadata": {
        "colab": {
          "base_uri": "https://localhost:8080/",
          "height": 564
        },
        "id": "mHERbEj1kI8B",
        "outputId": "d34690f8-c80b-4af0-883c-6f9e6ac10b0e"
      },
      "execution_count": 41,
      "outputs": [
        {
          "output_type": "display_data",
          "data": {
            "text/plain": [
              "<Figure size 1000x600 with 1 Axes>"
            ],
            "image/png": "[encoded data removed]"
          },
          "metadata": {}
        }
      ]
    }
  ]
}